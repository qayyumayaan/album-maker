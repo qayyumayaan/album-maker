{
 "cells": [
  {
   "attachments": {},
   "cell_type": "markdown",
   "metadata": {},
   "source": [
    "Make sure you have cmake, dlib, and facial recognition installed!\n"
   ]
  },
  {
   "attachments": {},
   "cell_type": "markdown",
   "metadata": {
    "vscode": {
     "languageId": "bat"
    }
   },
   "source": [
    "conda install -c anaconda cmake\n",
    "pip install dlib\n",
    "pip install face_recognition"
   ]
  },
  {
   "cell_type": "code",
   "execution_count": null,
   "metadata": {},
   "outputs": [],
   "source": [
    "import os\n",
    "import face_recognition\n",
    "import tqdm\n",
    "\n",
    "file_types = [\".jpg\", \".png\", \".gif\", \".bmp\"]\n",
    "\n",
    "    known_faces = {}  # Dictionary to store known faces and their corresponding photo locations\n",
    "\n",
    "    # Loop through all files in the directory\n",
    "    for filename in os.listdir(directory):\n",
    "        if any(filename.endswith(file_type) for file_type in file_types):\n",
    "            photo_path = os.path.join(directory, filename)\n",
    "            \n",
    "\n",
    "            try:\n",
    "                image = face_recognition.load_image_file(photo_path)\n",
    "            except Exception as e:\n",
    "                print(f\"Exception: {e}\")\n",
    "                continue\n",
    "            \n",
    "\n",
    "            face_locations = face_recognition.face_locations(image)\n",
    "            face_encodings = face_recognition.face_encodings(image, face_locations)\n",
    "\n",
    "            for face_encoding in face_encodings:\n",
    "                # Check if the face is already known\n",
    "                matches = face_recognition.compare_faces(known_faces.values(), face_encoding)\n",
    "\n",
    "                if any(matches):\n",
    "                    # Face is already known, find the matching person\n",
    "                    face_index = matches.index(True)\n",
    "                    person = list(known_faces.keys())[face_index]\n",
    "                else:\n",
    "                    # Face is unknown, create a new person entry\n",
    "                    person = \"Person \" + str(len(known_faces) + 1)\n",
    "                    known_faces[person] = face_encoding\n",
    "\n",
    "                # Save photo location to the person's album\n",
    "                album_path = os.path.join(output_directory, person + \".pkl\")\n",
    "                if os.path.exists(album_path):\n",
    "                    with open(album_path, \"rb\") as album_file:\n",
    "                        album = pickle.load(album_file)\n",
    "                    album.append(photo_path)\n",
    "                else:\n",
    "                    album = [photo_path]\n",
    "\n",
    "                with open(album_path, \"wb\") as album_file:\n",
    "                    pickle.dump(album, album_file)\n",
    "\n",
    "    print(\"Scanning complete!\")\n"
   ]
  },
  {
   "cell_type": "code",
   "execution_count": null,
   "metadata": {},
   "outputs": [],
   "source": [
    "def windows2linux(windows_path):\n",
    "    drive_letter_path = windows_path.split('\\\\', 1)[0].rstrip(':')\n",
    "    linux_path = '/mnt/' + drive_letter_path.lower() + windows_path.replace('\\\\', '/').lstrip('C:')\n",
    "    return linux_path"
   ]
  },
  {
   "cell_type": "code",
   "execution_count": null,
   "metadata": {},
   "outputs": [],
   "source": [
    "# Provide the directory containing the photos\n",
    "windows_path = r'C:\\Users\\amazi\\Downloads\\2001'\n",
    "\n",
    "drive_letter_path = windows_path.split('\\\\', 1)[0].rstrip(':')\n",
    "linux_path = '/mnt/' + drive_letter_path.lower() + windows_path.replace('\\\\', '/').lstrip('C:')\n",
    "print(linux_path)\n",
    "\n",
    "directory = linux_path\n",
    "\n",
    "scan_photos(directory)"
   ]
  }
 ],
 "metadata": {
  "kernelspec": {
   "display_name": "Python 3",
   "language": "python",
   "name": "python3"
  },
  "language_info": {
   "codemirror_mode": {
    "name": "ipython",
    "version": 3
   },
   "file_extension": ".py",
   "mimetype": "text/x-python",
   "name": "python",
   "nbconvert_exporter": "python",
   "pygments_lexer": "ipython3",
   "version": "3.10.11"
  },
  "orig_nbformat": 4
 },
 "nbformat": 4,
 "nbformat_minor": 2
}
